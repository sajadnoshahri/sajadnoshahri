{
  "nbformat": 4,
  "nbformat_minor": 0,
  "metadata": {
    "colab": {
      "name": "Untitled1.ipynb",
      "provenance": [],
      "authorship_tag": "ABX9TyMhUqeblCsrdWtVgyniAdmE",
      "include_colab_link": true
    },
    "kernelspec": {
      "name": "python3",
      "display_name": "Python 3"
    },
    "language_info": {
      "name": "python"
    }
  },
  "cells": [
    {
      "cell_type": "markdown",
      "metadata": {
        "id": "view-in-github",
        "colab_type": "text"
      },
      "source": [
        "<a href=\"https://colab.research.google.com/github/sajadnoshahri/sajadnoshahri/blob/main/Untitled1.ipynb\" target=\"_parent\"><img src=\"https://colab.research.google.com/assets/colab-badge.svg\" alt=\"Open In Colab\"/></a>"
      ]
    },
    {
      "cell_type": "markdown",
      "source": [
        "Python Program to Find the Sum of Natural Numbers"
      ],
      "metadata": {
        "id": "3mcQqS-rjgtY"
      }
    },
    {
      "cell_type": "code",
      "source": [
        "num = int(input(\"Enter a number: \"))  \n",
        "  \n",
        "if num < 0:  \n",
        "   print(\"Enter a positive number\")  \n",
        "else:  \n",
        "   sum = 0  \n",
        "   # use while loop to iterate un till zero  \n",
        "   while(num > 0):  \n",
        "       sum += num  \n",
        "       num -= 1  \n",
        "   print(\"The sum is\",sum) "
      ],
      "metadata": {
        "id": "u34vcGxtfI1p"
      },
      "execution_count": null,
      "outputs": []
    },
    {
      "cell_type": "markdown",
      "source": [
        "Python Program to Find Armstrong Number between an Interval"
      ],
      "metadata": {
        "id": "B5TqKU1Bj-PW"
      }
    },
    {
      "cell_type": "code",
      "source": [
        "lower = int(input(\"Enter lower range: \"))  \n",
        "upper = int(input(\"Enter upper range: \"))  \n",
        "  \n",
        "for num in range(lower,upper + 1):  \n",
        "   sum = 0  \n",
        "   temp = num  \n",
        "   while temp > 0:  \n",
        "       digit = temp % 10  \n",
        "       sum += digit ** 3  \n",
        "       temp //= 10  \n",
        "       if num == sum:  \n",
        "            print(num)  "
      ],
      "metadata": {
        "id": "o1tU-kQBjhxN"
      },
      "execution_count": null,
      "outputs": []
    },
    {
      "cell_type": "markdown",
      "source": [
        "Python Program to check Armstrong Number"
      ],
      "metadata": {
        "id": "yeizKaOZkVDc"
      }
    },
    {
      "cell_type": "code",
      "source": [
        "def power_1(A, B):  \n",
        "        \n",
        "    if B == 0:  \n",
        "        return 1  \n",
        "    if B % 2 == 0:  \n",
        "        return power_1(A, B // 2) * power(A, B // 2)  \n",
        "            \n",
        "    return A * power(A, B // 2) * power(A, B // 2)  \n",
        "    \n",
        "# Function for calculating \"order of the number\"  \n",
        "def order_1(A):  \n",
        "    \n",
        "    # Variable for storing the number  \n",
        "    N = 0  \n",
        "    while (A != 0):  \n",
        "        N = N + 1  \n",
        "        A = A // 10  \n",
        "            \n",
        "    return N  \n",
        "    \n",
        "# Function for checking if the given number is Armstrong number or not  \n",
        "def is_Armstrong(A):  \n",
        "        \n",
        "    N = order_1(A)  \n",
        "    temp_1 = A  \n",
        "    sum_1 = 0  \n",
        "        \n",
        "    while (temp_1 != 0):  \n",
        "        R_1 = temp_1 % 10  \n",
        "        sum_1 = sum_1 + power_1(R_1, N)  \n",
        "        temp_1 = temp_1 // 10  \n",
        "    \n",
        "    # If the above condition is satisfied, it will return the result  \n",
        "    return (sum_1 == A)  \n",
        "    \n",
        "# Driver code  \n",
        "A = int(input(\"Please enter the number to be checked: \"))  \n",
        "print(is_Armstrong(A))  "
      ],
      "metadata": {
        "id": "sVWltB91kTNy"
      },
      "execution_count": null,
      "outputs": []
    },
    {
      "cell_type": "markdown",
      "source": [
        "Python Program to Print the Fibonacci sequence"
      ],
      "metadata": {
        "id": "hBTeHsMvkmAq"
      }
    },
    {
      "cell_type": "code",
      "source": [
        "n_terms = int(input (\"How many terms the user wants to print? \"))  \n",
        "  \n",
        "# First two terms  \n",
        "n_1 = 0  \n",
        "n_2 = 1  \n",
        "count = 0  \n",
        "  \n",
        "# Now, we will check if the number of terms is valid or not  \n",
        "if n_terms <= 0:  \n",
        "    print (\"Please enter a positive integer, the given number is not valid\")  \n",
        "# if there is only one term, it will return n_1  \n",
        "elif n_terms == 1:  \n",
        "    print (\"The Fibonacci sequence of the numbers up to\", n_terms, \": \")  \n",
        "    print(n_1)  \n",
        "# Then we will generate Fibonacci sequence of number  \n",
        "else:  \n",
        "    print (\"The fibonacci sequence of the numbers is:\")  \n",
        "    while count < n_terms:  \n",
        "        print(n_1)  \n",
        "        nth = n_1 + n_2  \n",
        "       # At last, we will update values  \n",
        "        n_1 = n_2  \n",
        "        n_2 = nth  \n",
        "        count += 1  "
      ],
      "metadata": {
        "id": "O4wG7ZBDkr-a"
      },
      "execution_count": null,
      "outputs": []
    },
    {
      "cell_type": "markdown",
      "source": [
        "Python Program to Display the Multiplication Table"
      ],
      "metadata": {
        "id": "NHuHqQ5Yk5V1"
      }
    },
    {
      "cell_type": "code",
      "source": [
        "number = int(input (\"Enter the number of which the user wants to print the multiplication table: \"))      \n",
        "# We are using \"for loop\" to iterate the multiplication 10 times       \n",
        "print (\"The Multiplication Table of: \", number)    \n",
        "for count in range(1, 11):      \n",
        "   print (number, 'x', count, '=', number * count)  "
      ],
      "metadata": {
        "id": "NhpgEtCylUze"
      },
      "execution_count": null,
      "outputs": []
    },
    {
      "cell_type": "markdown",
      "source": [
        "Python Program to Find the Factorial of a Number"
      ],
      "metadata": {
        "id": "V80lqJX7lXYD"
      }
    },
    {
      "cell_type": "code",
      "source": [
        "num = int(input(\"Enter a number: \"))    \n",
        "factorial = 1    \n",
        "if num < 0:    \n",
        "   print(\" Factorial does not exist for negative numbers\")    \n",
        "elif num == 0:    \n",
        "   print(\"The factorial of 0 is 1\")    \n",
        "else:    \n",
        "   for i in range(1,num + 1):    \n",
        "       factorial = factorial*i    \n",
        "   print(\"The factorial of\",num,\"is\",factorial) "
      ],
      "metadata": {
        "id": "0kt53IrqlfAi"
      },
      "execution_count": null,
      "outputs": []
    },
    {
      "cell_type": "markdown",
      "source": [
        "Python Program to Print all Prime Numbers in an Interval\n"
      ],
      "metadata": {
        "id": "eI-DKbPelk1a"
      }
    },
    {
      "cell_type": "code",
      "source": [
        "# First, we will take the input:  \n",
        "lower_value = int(input (\"Please, Enter the Lowest Range Value: \"))  \n",
        "upper_value = int(input (\"Please, Enter the Upper Range Value: \"))  \n",
        "  \n",
        "print (\"The Prime Numbers in the range are: \")  \n",
        "for number in range (lower_value, upper_value + 1):  \n",
        "    if number > 1:  \n",
        "        for i in range (2, number):  \n",
        "            if (number % i) == 0:  \n",
        "                break  \n",
        "        else:  \n",
        "            print (number)  "
      ],
      "metadata": {
        "id": "9YNfkcWwl4CG"
      },
      "execution_count": null,
      "outputs": []
    },
    {
      "cell_type": "markdown",
      "source": [
        "Python Program to Check Prime Number\n"
      ],
      "metadata": {
        "id": "hVi9PzSRmAvB"
      }
    },
    {
      "cell_type": "code",
      "source": [
        "# A default function for Prime checking conditions  \n",
        "def PrimeChecker(a):  \n",
        "    # Checking that given number is more than 1  \n",
        "    if a > 1:  \n",
        "        # Iterating over the given number with for loop  \n",
        "        for j in range(2, int(a/2) + 1):  \n",
        "            # If the given number is divisible or not  \n",
        "            if (a % j) == 0:  \n",
        "                print(a, \"is not a prime number\")  \n",
        "                break  \n",
        "        # Else it is a prime number  \n",
        "        else:  \n",
        "            print(a, \"is a prime number\")  \n",
        "    # If the given number is 1  \n",
        "    else:  \n",
        "      print(a, \"is not a prime number\")  \n",
        "# Taking an input number from the user  \n",
        "a = int(input(\"Enter an input number:\"))  \n",
        "# Printing result  \n",
        "PrimeChecker(a)  "
      ],
      "metadata": {
        "colab": {
          "base_uri": "https://localhost:8080/"
        },
        "id": "pA92JniDmHc-",
        "outputId": "00c4475c-468b-451d-8ff2-aeb2a5684819"
      },
      "execution_count": 6,
      "outputs": [
        {
          "output_type": "stream",
          "name": "stdout",
          "text": [
            "Enter an input number:200\n",
            "200 is not a prime number\n"
          ]
        }
      ]
    },
    {
      "cell_type": "markdown",
      "source": [
        "Python Program to Check Leap Year\n"
      ],
      "metadata": {
        "id": "3JwyD4PJmzAu"
      }
    },
    {
      "cell_type": "code",
      "source": [
        "# Default function to implement conditions to check leap year  \n",
        "def CheckLeap(Year):  \n",
        "  # Checking if the given year is leap year  \n",
        "  if((Year % 400 == 0) or  \n",
        "     (Year % 100 != 0) and  \n",
        "     (Year % 4 == 0)):   \n",
        "    print(\"Given Year is a leap Year\");  \n",
        "  # Else it is not a leap year  \n",
        "  else:  \n",
        "    print (\"Given Year is not a leap Year\")  \n",
        "# Taking an input year from user  \n",
        "Year = int(input(\"Enter the number: \"))  \n",
        "# Printing result  \n",
        "CheckLeap(Year) "
      ],
      "metadata": {
        "id": "sQVSoopcm127"
      },
      "execution_count": null,
      "outputs": []
    },
    {
      "cell_type": "markdown",
      "source": [
        "Python Program to Check if a Number is Odd or Even"
      ],
      "metadata": {
        "id": "9irBOsHtnH9a"
      }
    },
    {
      "cell_type": "code",
      "source": [
        "num = int(input(\"Enter a number: \"))  \n",
        "if (num % 2) == 0:  \n",
        "   print(\"{0} is Even number\".format(num))  \n",
        "else:  \n",
        "   print(\"{0} is Odd number\".format(num)) "
      ],
      "metadata": {
        "id": "X1HqoaBQnJSZ"
      },
      "execution_count": null,
      "outputs": []
    },
    {
      "cell_type": "markdown",
      "source": [
        "Python Program to check if a Number is Positive, Negative or Zero"
      ],
      "metadata": {
        "id": "ix79vSRgnfPh"
      }
    },
    {
      "cell_type": "code",
      "source": [
        "# Default function to run if else condition  \n",
        "def NumberCheck(a):   \n",
        "    # Checking if the number is positive  \n",
        "    if a > 0:   \n",
        "        print(\"Number given by you is Positive\")   \n",
        "    # Checking if the number is negative   \n",
        "    elif a < 0:   \n",
        "        print(\"Number given by you is Negative\")   \n",
        "    # Else the number is zero  \n",
        "    else:   \n",
        "        print(\"Number given by you is zero\")  \n",
        "# Taking number from user  \n",
        "a = float(input(\"Enter a number as input value: \"))  \n",
        "# Printing result  \n",
        "NumberCheck(a)  "
      ],
      "metadata": {
        "colab": {
          "base_uri": "https://localhost:8080/"
        },
        "id": "IhMMb7t4ngWe",
        "outputId": "4774d99f-92f6-45c0-ad46-dbfeb017775c"
      },
      "execution_count": 7,
      "outputs": [
        {
          "output_type": "stream",
          "name": "stdout",
          "text": [
            "Enter a number as input value: 234\n",
            "Number given by you is Positive\n"
          ]
        }
      ]
    },
    {
      "cell_type": "markdown",
      "source": [
        "Python program to display calendar\n"
      ],
      "metadata": {
        "id": "lRAMO63onp_G"
      }
    },
    {
      "cell_type": "code",
      "source": [
        "import calendar  \n",
        "# Enter the month and year  \n",
        "yy = int(input(\"Enter year: \"))  \n",
        "mm = int(input(\"Enter month: \"))  \n",
        "  \n",
        "# display the calendar  \n",
        "print(calendar.month(yy,mm))  "
      ],
      "metadata": {
        "id": "oRfuuVAonybE"
      },
      "execution_count": null,
      "outputs": []
    },
    {
      "cell_type": "markdown",
      "source": [
        "Python program to convert Celsius to Fahrenheit"
      ],
      "metadata": {
        "id": "9oAptxsvoEAS"
      }
    },
    {
      "cell_type": "code",
      "source": [
        "elsius_1 = float(input(\"Temperature value in degree Celsius: \" ))  \n",
        "  \n",
        "# For Converting the temperature to degree Fahrenheit by using the above  \n",
        "# given formula  \n",
        "Fahrenheit_1 = (celsius_1 * 1.8) + 32  \n",
        "    \n",
        "# print the result  \n",
        "print('The %.2f degree Celsius is equal to: %.2f Fahrenheit'  \n",
        "      %(celsius_1, Fahrenheit_1))  \n",
        "  \n",
        "print(\"----OR----\")  \n",
        "celsius_2 = float (input(\"Temperature value in degree Celsius: \" ))  \n",
        "Fahrenheit_2 = (celsius_2 * 9/5) + 32  \n",
        "    \n",
        "# print the result  \n",
        "print ('The %.2f degree Celsius is equal to: %.2f Fahrenheit'  \n",
        "      %(celsius_2, Fahrenheit_2))   "
      ],
      "metadata": {
        "id": "KzPUFMXqoI_2"
      },
      "execution_count": null,
      "outputs": []
    },
    {
      "cell_type": "markdown",
      "source": [
        "Python program to convert Kilometres to Miles\n"
      ],
      "metadata": {
        "id": "zHBkcFGsogpJ"
      }
    },
    {
      "cell_type": "code",
      "source": [
        "kilometre_1 = float (input (\"Please enter the speed of car in Kilometre as a unit: \"))  \n",
        "conversion_ratio_1 = 0.621371  \n",
        "miles_1 = kilometre_1 * conversion_ratio_1  \n",
        "print (\"The speed value of car in Miles: \", miles_1"
      ],
      "metadata": {
        "id": "eHEm213MonuR"
      },
      "execution_count": null,
      "outputs": []
    },
    {
      "cell_type": "markdown",
      "source": [
        "Python program to swap two variables\n",
        "\n",
        "\n"
      ],
      "metadata": {
        "id": "U9ry64KjosnR"
      }
    },
    {
      "cell_type": "code",
      "source": [
        "P = int( input(\"Please enter value for P: \"))  \n",
        "Q = int( input(\"Please enter value for Q: \"))  \n",
        "   \n",
        "# To swap the value of two variables  \n",
        "# we will user third variable which is a temporary variable  \n",
        "temp_1 = P  \n",
        "P = Q  \n",
        "Q = temp_1  \n",
        "   \n",
        "print (\"The Value of P after swapping: \", P)  \n",
        "print (\"The Value of Q after swapping: \", Q)  "
      ],
      "metadata": {
        "id": "p3gDH08Noy4g"
      },
      "execution_count": null,
      "outputs": []
    },
    {
      "cell_type": "markdown",
      "source": [
        "Python program to solve quadratic equation"
      ],
      "metadata": {
        "id": "gFRTqW2MpQtX"
      }
    },
    {
      "cell_type": "code",
      "source": [
        "# import complex math module  \n",
        "import cmath  \n",
        "a = float(input('Enter a: '))  \n",
        "b = float(input('Enter b: '))  \n",
        "c = float(input('Enter c: '))  \n",
        "  \n",
        "# calculate the discriminant  \n",
        "d = (b**2) - (4*a*c)  \n",
        "  \n",
        "# find two solutions  \n",
        "sol1 = (-b-cmath.sqrt(d))/(2*a)  \n",
        "sol2 = (-b+cmath.sqrt(d))/(2*a)  \n",
        "print('The solution are {0} and {1}'.format(sol1,sol2))  "
      ],
      "metadata": {
        "id": "dnOJG3rXrMIN"
      },
      "execution_count": null,
      "outputs": []
    },
    {
      "cell_type": "markdown",
      "source": [
        "Python program to find the area of a triangle\n"
      ],
      "metadata": {
        "id": "kCjI9i6kttsv"
      }
    },
    {
      "cell_type": "code",
      "source": [
        "# Three sides of the triangle is a, b and c:  \n",
        "a = float(input('Enter first side: '))  \n",
        "b = float(input('Enter second side: '))  \n",
        "c = float(input('Enter third side: '))  \n",
        "  \n",
        "# calculate the semi-perimeter  \n",
        "s = (a + b + c) / 2  \n",
        "  \n",
        "# calculate the area  \n",
        "area = (s*(s-a)*(s-b)*(s-c)) ** 0.5  \n",
        "print('The area of the triangle is %0.2f' %area)  "
      ],
      "metadata": {
        "id": "VzB-xmK1txMQ"
      },
      "execution_count": null,
      "outputs": []
    },
    {
      "cell_type": "markdown",
      "source": [
        "Python program to do arithmetical operations\n"
      ],
      "metadata": {
        "id": "bi3PqNZkuNmD"
      }
    },
    {
      "cell_type": "code",
      "source": [
        "# Store input numbers:  \n",
        "num1 = input('Enter first number: ')  \n",
        "num2 = input('Enter second number: ')  \n",
        "  \n",
        "# Add two numbers  \n",
        "sum = float(num1) + float(num2)  \n",
        "# Subtract two numbers  \n",
        "min = float(num1) - float(num2)  \n",
        "# Multiply two numbers  \n",
        "mul = float(num1) * float(num2)  \n",
        "#Divide two numbers  \n",
        "div = float(num1) / float(num2)  \n",
        "# Display the sum  \n",
        "print('The sum of {0} and {1} is {2}'.format(num1, num2, sum))  \n",
        "  \n",
        "# Display the subtraction  \n",
        "print('The subtraction of {0} and {1} is {2}'.format(num1, num2, min))  \n",
        "# Display the multiplication  \n",
        "print('The multiplication of {0} and {1} is {2}'.format(num1, num2, mul))  \n",
        "# Display the division  \n",
        "print('The division of {0} and {1} is {2}'.format(num1, num2, div))  \n",
        "Output:"
      ],
      "metadata": {
        "id": "RV883ZbQvFEY"
      },
      "execution_count": null,
      "outputs": []
    },
    {
      "cell_type": "markdown",
      "source": [
        ""
      ],
      "metadata": {
        "id": "iwcXfquUvNf3"
      }
    }
  ]
}